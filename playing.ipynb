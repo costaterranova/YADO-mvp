{
 "cells": [
  {
   "cell_type": "code",
   "execution_count": 1,
   "metadata": {},
   "outputs": [],
   "source": [
    "import pandas as pd\n",
    "from random import randint as rand"
   ]
  },
  {
   "cell_type": "code",
   "execution_count": 5,
   "metadata": {},
   "outputs": [],
   "source": [
    "import random"
   ]
  },
  {
   "cell_type": "code",
   "execution_count": 6,
   "metadata": {},
   "outputs": [
    {
     "ename": "AttributeError",
     "evalue": "module 'random' has no attribute '__version__'",
     "output_type": "error",
     "traceback": [
      "\u001b[0;31m---------------------------------------------------------------------------\u001b[0m",
      "\u001b[0;31mAttributeError\u001b[0m                            Traceback (most recent call last)",
      "\u001b[1;32m/Users/Apple/LIFE/ARS/ENTR/Yado/playing.ipynb Cell 3\u001b[0m in \u001b[0;36m<cell line: 1>\u001b[0;34m()\u001b[0m\n\u001b[0;32m----> <a href='vscode-notebook-cell:/Users/Apple/LIFE/ARS/ENTR/Yado/playing.ipynb#W5sZmlsZQ%3D%3D?line=0'>1</a>\u001b[0m random\u001b[39m.\u001b[39;49m__version__\n",
      "\u001b[0;31mAttributeError\u001b[0m: module 'random' has no attribute '__version__'"
     ]
    }
   ],
   "source": [
    "random.__version__"
   ]
  },
  {
   "cell_type": "code",
   "execution_count": 6,
   "metadata": {},
   "outputs": [
    {
     "data": {
      "text/plain": [
       "4"
      ]
     },
     "execution_count": 6,
     "metadata": {},
     "output_type": "execute_result"
    }
   ],
   "source": [
    "rand(0,10)"
   ]
  },
  {
   "cell_type": "code",
   "execution_count": 22,
   "metadata": {},
   "outputs": [],
   "source": [
    "all_activities = pd.read_csv('list_of_activities.csv')\n",
    "len_all_activities = len(all_activities)\n",
    "list_of_selected_activities = []\n",
    "\n",
    "random_activity_index = rand(0, len_all_activities-1)\n",
    "while random_activity_index in list_of_selected_activities:\n",
    "    random_activity_index = rand(0, len_all_activities-1)\n",
    "list_of_selected_activities.append(random_activity_index)\n",
    "activity = all_activities['activity'][random_activity_index]\n"
   ]
  },
  {
   "cell_type": "code",
   "execution_count": 31,
   "metadata": {},
   "outputs": [
    {
     "data": {
      "text/plain": [
       "'Buy a hot chocolate to a stranger in the winter\\xa0'"
      ]
     },
     "execution_count": 31,
     "metadata": {},
     "output_type": "execute_result"
    }
   ],
   "source": [
    "all_activities['activity'][len_all_activities-1]"
   ]
  }
 ],
 "metadata": {
  "kernelspec": {
   "display_name": "Python 3",
   "language": "python",
   "name": "python3"
  },
  "language_info": {
   "codemirror_mode": {
    "name": "ipython",
    "version": 3
   },
   "file_extension": ".py",
   "mimetype": "text/x-python",
   "name": "python",
   "nbconvert_exporter": "python",
   "pygments_lexer": "ipython3",
   "version": "3.9.10"
  },
  "orig_nbformat": 4,
  "vscode": {
   "interpreter": {
    "hash": "486fa0827316166d70c33d5310807918e94ee83115b30532896627e635d11957"
   }
  }
 },
 "nbformat": 4,
 "nbformat_minor": 2
}
